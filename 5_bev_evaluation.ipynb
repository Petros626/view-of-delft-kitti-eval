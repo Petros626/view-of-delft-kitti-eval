{
 "cells": [
  {
   "cell_type": "code",
   "execution_count": null,
   "metadata": {
    "pycharm": {
     "name": "#%%\n"
    }
   },
   "outputs": [],
   "source": [
    "from vod.evaluation import Evaluation\n",
    "import os\n",
    "\n",
    "gt_path = '/home/heizung1/view-of-delft-dataset/vod/label_transformation/kitti_gt_annos_2/gt_lidar_to_camera_labels_2'\n",
    "\n",
    "# When the instance is created, the label locations are required.\n",
    "evaluation = Evaluation(test_annotation_file=os.path.join(gt_path)) # here gtlabels\n",
    "\n",
    "# Using the evaluate method, the model can be evaluated on the detection labels.\n",
    "results = evaluation.evaluate(\n",
    "    result_path=os.path.join(gt_path), # here detection labels\n",
    "    current_class=[0, 1, 2]) # Car, Pedestrian, Cyclist\n",
    "\n",
    "# print(\"\\nResults: \\n\"\n",
    "#       f\"Entire annotated area: \\n\"\n",
    "#       f\"Car AP BBox: {results['entire_area']['Car_bbox_all']} \\n\"\n",
    "#       f\"Pedestrian AP BBox: {results['entire_area']['Pedestrian_bbox_all']} \\n\"\n",
    "#       f\"Cyclist AP BBox: {results['entire_area']['Cyclist_bbox_all']} \\n\"\n",
    "#       f\"All mAP BBox: {(results['entire_area']['Car_bbox_all'] + results['entire_area']['Pedestrian_bbox_all'] + results['entire_area']['Cyclist_bbox_all']) / 3} \\n\"\n",
    "\n",
    "#       f\"\\nCar AP 3D: {results['entire_area']['Car_3d_all']} \\n\"\n",
    "#       f\"Pedestrian AP 3D: {results['entire_area']['Pedestrian_3d_all']} \\n\"\n",
    "#       f\"Cyclist AP 3D: {results['entire_area']['Cyclist_3d_all']} \\n\"\n",
    "#       f\"All mAP 3D: {(results['entire_area']['Car_3d_all'] + results['entire_area']['Pedestrian_3d_all'] + results['entire_area']['Cyclist_3d_all']) / 3} \\n\"\n",
    "        \n",
    "#       f\"\\nCar AP BEV: {results['entire_area']['Car_bev_all']} \\n\" \n",
    "#       f\"Pedestrian AP BEV: {results['entire_area']['Pedestrian_bev_all']} \\n\"\n",
    "#       f\"Cyclist AP BEV: {results['entire_area']['Cyclist_bev_all']} \\n\"\n",
    "#       f\"All mAP BEV: {(results['entire_area']['Car_bev_all'] + results['entire_area']['Pedestrian_bev_all'] + results['entire_area']['Cyclist_bev_all']) / 3} \\n\"\n",
    "#       )\n",
    "\n",
    "metrics = results['entire_area']\n",
    "\n",
    "# BBox\n",
    "# print(\"\\n=== 2D BBox Metrics (IoU=0.7) ===\")\n",
    "# for cls in ['Car', 'Pedestrian', 'Cyclist']:\n",
    "#     print(f\"{cls}: Easy: {metrics[f'{cls}_bbox_easy_07']:.2f}, \" + f\"Moderate: {metrics[f'{cls}_bbox_mod_07']:.2f}, \" + f\"Hard: {metrics[f'{cls}_bbox_hard_07']:.2f}\")\n",
    "# print(\"\\n=== 2D BBox Metrics (IoU=0.5) ===\")\n",
    "# for cls in ['Car', 'Pedestrian', 'Cyclist']:\n",
    "#     print(f\"{cls}: Easy: {metrics[f'{cls}_bbox_easy_05']:.2f}, \" + f\"Moderate: {metrics[f'{cls}_bbox_mod_05']:.2f}, \" + f\"Hard: {metrics[f'{cls}_bbox_hard_05']:.2f}\")\n",
    "\n",
    "# 3D\n",
    "print(\"\\n=== 3D Metrics (IoU=0.7) ===\")\n",
    "for cls in ['Car', 'Pedestrian', 'Cyclist']:\n",
    "    print(f\"{cls}: Easy: {metrics[f'{cls}_3d_easy_07']:.2f}, \" + f\"Moderate: {metrics[f'{cls}_3d_mod_07']:.2f}, \" + f\"Hard: {metrics[f'{cls}_3d_hard_07']:.2f}\" +\n",
    "    f\"mAP={ (metrics[f'{cls}_3d_easy_07'] + metrics[f'{cls}_3d_mod_07'] + metrics[f'{cls}_3d_hard_07'])/3:.2f}\")\n",
    "print(\"\\n=== 3D Metrics (IoU=0.5) ===\")\n",
    "for cls in ['Car', 'Pedestrian', 'Cyclist']:\n",
    "    print(f\"{cls}: Easy={metrics[f'{cls}_3d_easy_05']:.2f}, \" + f\"Moderate={metrics[f'{cls}_3d_mod_05']:.2f}, \" + f\"Hard={metrics[f'{cls}_3d_hard_05']:.2f}\" +\n",
    "    f\"mAP={ (metrics[f'{cls}_3d_easy_05'] + metrics[f'{cls}_3d_mod_05'] + metrics[f'{cls}_3d_hard_05'])/3:.2f}\")\n",
    "\n",
    "# BEV\n",
    "print(\"\\n=== BEV Metrics (IoU=0.7) ===\")\n",
    "for cls in ['Car', 'Pedestrian', 'Cyclist']:\n",
    "    print(f\"{cls}: Easy={metrics[f'{cls}_bev_easy_07']:.2f}, \" + f\"Moderate={metrics[f'{cls}_bev_mod_07']:.2f}, \" + f\"Hard={metrics[f'{cls}_bev_hard_07']:.2f}\" +\n",
    "    f\"mAP={ (metrics[f'{cls}_bev_easy_07'] + metrics[f'{cls}_bev_mod_07'] + metrics[f'{cls}_bev_hard_07'])/3:.2f}\")\n",
    "print(\"\\n=== BEV Metrics (IoU=0.5) ===\")\n",
    "for cls in ['Car', 'Pedestrian', 'Cyclist']:\n",
    "    print(f\"{cls}: Easy={metrics[f'{cls}_bev_easy_05']:.2f}, \" + f\"Moderate={metrics[f'{cls}_bev_mod_05']:.2f}, \" + f\"Hard={metrics[f'{cls}_bev_hard_05']:.2f}\" +\n",
    "    f\"mAP={ (metrics[f'{cls}_bev_easy_05'] + metrics[f'{cls}_bev_mod_05'] + metrics[f'{cls}_bev_hard_05'])/3:.2f}\")"
   ]
  }
 ],
 "metadata": {
  "kernelspec": {
   "display_name": "view-of-delft-env",
   "language": "python",
   "name": "python3"
  },
  "language_info": {
   "codemirror_mode": {
    "name": "ipython",
    "version": 3
   },
   "file_extension": ".py",
   "mimetype": "text/x-python",
   "name": "python",
   "nbconvert_exporter": "python",
   "pygments_lexer": "ipython3",
   "version": "3.8.20"
  }
 },
 "nbformat": 4,
 "nbformat_minor": 1
}
